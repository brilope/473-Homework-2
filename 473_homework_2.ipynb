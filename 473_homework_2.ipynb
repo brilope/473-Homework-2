{
 "cells": [
  {
   "cell_type": "code",
   "execution_count": 23,
   "metadata": {},
   "outputs": [
    {
     "name": "stdout",
     "output_type": "stream",
     "text": [
      "10th sequence: c\n",
      "758th sequence: t\n"
     ]
    }
   ],
   "source": [
    "with open(\"C:/Users/chemi/OneDrive/Coding/chr1_GL383518v1_alt.fa\", 'r') as file:\n",
    "    sequence = file.read()\n",
    "# Have to add 20 to the index because the first 20 characters are the header\n",
    "print(\"10th sequence:\", sequence[30])\n",
    "print(\"758th sequence:\", sequence[778])"
   ]
  },
  {
   "cell_type": "code",
   "execution_count": 39,
   "metadata": {},
   "outputs": [
    {
     "name": "stdout",
     "output_type": "stream",
     "text": [
      "79th sequence: G\n",
      "500th through 800th sequence: GATCCACCCGCCTTGGCCTACCATAGTGCTGGGATTATAGGCGTGAGCCACTGTGCCTGGCCAGAATTAGACGTAGATTTTAATCATGACTTTCCTATTTGTTGTGTTTCTTGGACAGGTTTATACTAAATAAGAAATTATGTAGTATACTAAATAATACTATTTTTTTTGAAATGGAGTGTCTCTCTGTCACCCAGGCTGGAGTGCAGTGGCGGGATCTCGGCTTACCGCAACCTCCGCCTCCCAGGTTCAAGCAATTCTCCTGTCACAGCCTCCCAAATAGCTGGGACTACAGGCACA\n"
     ]
    }
   ],
   "source": [
    "org_bases = {'A': 'T', 'T': 'A', 'C': 'G', 'G': 'C', 'a' : 'T', 't' : 'A', 'c' : 'G', 'g' : 'C'}\n",
    "filtered_sequence = sequence.replace('\\n', '').upper()\n",
    "valid_bases = [base for base in filtered_sequence if base in org_bases]\n",
    "reverse_complement = ''.join(org_bases[base] for base in reversed(valid_bases))\n",
    "print(\"79th sequence:\", reverse_complement[78])\n",
    "print(\"500th through 800th sequence:\", reverse_complement[499:799])\n"
   ]
  },
  {
   "cell_type": "code",
   "execution_count": 54,
   "metadata": {},
   "outputs": [
    {
     "name": "stdout",
     "output_type": "stream",
     "text": [
      "{'A': 22, 'T': 24, 'C': 5, 'G': 5, 'a': 250, 't': 198, 'c': 223, 'g': 237}\n"
     ]
    }
   ],
   "source": [
    "my_dict = {}\n",
    "bite_size = 1000\n",
    "for i in range(0, len(sequence), bite_size):\n",
    "    counts = {'A': 0, 'T': 0, 'C': 0, 'G': 0, 'a': 0, 't': 0, 'c': 0, 'g': 0}\n",
    "    for base in sequence[i:i+bite_size]:\n",
    "        if base in org_bases:\n",
    "            counts[base] += 1\n",
    "    my_dict[i] = counts\n",
    "print(my_dict[0])"
   ]
  },
  {
   "cell_type": "code",
   "execution_count": 78,
   "metadata": {},
   "outputs": [
    {
     "name": "stdout",
     "output_type": "stream",
     "text": [
      "Counts for the first kilobase: {'A': 235, 'T': 327, 'C': 214, 'G': 224, 'a': 0, 't': 0, 'c': 0, 'g': 0}\n",
      "Total counts: {'A': 48998, 'T': 47592, 'C': 42680, 'G': 43173, 'a': 0, 't': 0, 'c': 0, 'g': 0}\n"
     ]
    }
   ],
   "source": [
    "counts_list = []\n",
    "total_counts = []\n",
    "for i in range(0, len(reverse_complement), bite_size):\n",
    "    counts = {'A': 0, 'T': 0, 'C': 0, 'G': 0, 'a': 0, 't': 0, 'c': 0, 'g': 0}\n",
    "    for base in reverse_complement[i:i+bite_size]:\n",
    "        if base in org_bases:\n",
    "            counts[base] += 1\n",
    "    counts_list.append(counts)\n",
    "print(\"Counts for the first kilobase:\", counts_list[0])\n",
    "sums_of_counts = {'A': 0, 'T': 0, 'C': 0, 'G': 0, 'a': 0, 't': 0, 'c': 0, 'g': 0}\n",
    "for j in range(0, len(counts_list)):\n",
    "    for base in counts_list[j]:\n",
    "        sums_of_counts[base] += counts_list[j][base]\n",
    "print(\"Total counts:\", sums_of_counts)\n"
   ]
  },
  {
   "cell_type": "code",
   "execution_count": null,
   "metadata": {},
   "outputs": [],
   "source": [
    "#The expected output would be less than 1000 for each base \n",
    "#The list for the total count aren't equal to the expected values. \n",
    "#This is because the sequence is not a perfect palindrome and the reverse complement is not a perfect complement. "
   ]
  }
 ],
 "metadata": {
  "kernelspec": {
   "display_name": "base",
   "language": "python",
   "name": "python3"
  },
  "language_info": {
   "codemirror_mode": {
    "name": "ipython",
    "version": 3
   },
   "file_extension": ".py",
   "mimetype": "text/x-python",
   "name": "python",
   "nbconvert_exporter": "python",
   "pygments_lexer": "ipython3",
   "version": "3.11.4"
  }
 },
 "nbformat": 4,
 "nbformat_minor": 2
}
